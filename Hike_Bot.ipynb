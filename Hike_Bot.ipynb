{
 "cells": [
  {
   "cell_type": "code",
   "execution_count": 1,
   "metadata": {},
   "outputs": [],
   "source": [
    "import tweepy\n",
    "import tkinter\n",
    "consumer_key = '******'\n",
    "consumer_secret = '*******'\n",
    "access_token = '******'\n",
    "access_token_secret = '*********'\n",
    "auth = tweepy.OAuthHandler(consumer_key, consumer_secret)\n",
    "auth.set_access_token(access_token, access_token_secret)\n",
    "api = tweepy.API(auth)"
   ]
  },
  {
   "cell_type": "markdown",
   "metadata": {},
   "source": [
    "Run Code below to see if program is working, it should return the name of your Twitter account in the console.\n"
   ]
  },
  {
   "cell_type": "code",
   "execution_count": 2,
   "metadata": {},
   "outputs": [
    {
     "name": "stdout",
     "output_type": "stream",
     "text": [
      "p\n"
     ]
    }
   ],
   "source": [
    "user = api.me()\n",
    "print (user.name)"
   ]
  },
  {
   "cell_type": "markdown",
   "metadata": {},
   "source": [
    "Building the Bot This bot is meant to:\n",
    "\n",
    "Follow everyone following you. Favorite and Retweet a Tweet based on keywords. Reply to a user based on a keyword."
   ]
  },
  {
   "cell_type": "code",
   "execution_count": 3,
   "metadata": {},
   "outputs": [],
   "source": [
    "for follower in tweepy.Cursor(api.followers).items():\n",
    "    follower.follow()\n",
    "    print (\"Followed everyone that is following \" + user.name)"
   ]
  },
  {
   "cell_type": "code",
   "execution_count": 4,
   "metadata": {},
   "outputs": [],
   "source": [
    "def mainFunction():\n",
    "    search = \"Hike\"\n",
    "    numberOfTweets = \"10\"\n",
    "    for tweet in tweepy.Cursor(api.search, search).items(numberOfTweets):\n",
    "        try:\n",
    "            tweet.retweet()\n",
    "            print('Retweeted the tweet')\n",
    "        except tweepy.TweepError as e:\n",
    "        \n",
    "            print(e.reason)\n",
    "        except StopIteration:\n",
    "            break"
   ]
  },
  {
   "cell_type": "markdown",
   "metadata": {},
   "source": [
    "In order to favorite a tweet you replace the tweet.retweet()\n",
    "with tweet.favorite()\n",
    "\n"
   ]
  },
  {
   "cell_type": "code",
   "execution_count": 5,
   "metadata": {},
   "outputs": [],
   "source": [
    "def mainFunction():\n",
    "    search = \"Hike\"\n",
    "    numberOfTweets = \"10\"\n",
    "    for tweet in tweepy.Cursor(api.search, search).items(numberOfTweets):\n",
    "        try:\n",
    "            tweet.favorite()\n",
    "            print('Retweeted the tweet')\n",
    "        except tweepy.TweepError as e:\n",
    "        \n",
    "            print(e.reason)\n",
    "        except StopIteration:\n",
    "            break"
   ]
  },
  {
   "cell_type": "markdown",
   "metadata": {},
   "source": [
    "In order to reply to a user based on a keyword, we need to store the users username and twitter ID, use https://tweeterid.com/\n"
   ]
  },
  {
   "cell_type": "code",
   "execution_count": 6,
   "metadata": {},
   "outputs": [],
   "source": [
    "tweetId = 20492613\n",
    "username = 'modernhiker' # just creating global incase used later"
   ]
  },
  {
   "cell_type": "code",
   "execution_count": 7,
   "metadata": {},
   "outputs": [
    {
     "name": "stdout",
     "output_type": "stream",
     "text": [
      "[{'code': 187, 'message': 'Status is a duplicate.'}]\n",
      "[{'code': 187, 'message': 'Status is a duplicate.'}]\n",
      "[{'code': 187, 'message': 'Status is a duplicate.'}]\n",
      "[{'code': 187, 'message': 'Status is a duplicate.'}]\n",
      "[{'code': 187, 'message': 'Status is a duplicate.'}]\n",
      "[{'code': 187, 'message': 'Status is a duplicate.'}]\n",
      "[{'code': 187, 'message': 'Status is a duplicate.'}]\n",
      "[{'code': 187, 'message': 'Status is a duplicate.'}]\n",
      "[{'code': 187, 'message': 'Status is a duplicate.'}]\n",
      "[{'code': 187, 'message': 'Status is a duplicate.'}]\n"
     ]
    }
   ],
   "source": [
    "phrase = \"Hiking is Great! Keep on Hiking so the trails remain trails! Every step contributes to a healthy trail!\"\n",
    "search = \"Hike\"\n",
    "numberOfTweets = 10\n",
    "\n",
    "for tweet in tweepy.Cursor(api.search, search).items(numberOfTweets):\n",
    "            try:\n",
    "                tweetId = 20492613\n",
    "                username = 'modernhiker'\n",
    "                api.update_status(\"@\" + username + \" \" + phrase, in_reply_to_status_id = tweetId)\n",
    "                print (\"Replied with \" + phrase)\n",
    "            \n",
    "            except tweepy.TweepError as e:\n",
    "                print(e.reason)\n",
    "            except StopIteration:\n",
    "                break"
   ]
  },
  {
   "cell_type": "markdown",
   "metadata": {},
   "source": [
    "thx for the inspiration!: https://medium.freecodecamp.org/creating-a-twitter-bot-in-python-with-tweepy-ac524157a607 - tutorial I used"
   ]
  },
  {
   "cell_type": "code",
   "execution_count": null,
   "metadata": {},
   "outputs": [],
   "source": []
  }
 ],
 "metadata": {
  "kernelspec": {
   "display_name": "Python 3",
   "language": "python",
   "name": "python3"
  },
  "language_info": {
   "codemirror_mode": {
    "name": "ipython",
    "version": 3
   },
   "file_extension": ".py",
   "mimetype": "text/x-python",
   "name": "python",
   "nbconvert_exporter": "python",
   "pygments_lexer": "ipython3",
   "version": "3.6.6"
  }
 },
 "nbformat": 4,
 "nbformat_minor": 2
}
